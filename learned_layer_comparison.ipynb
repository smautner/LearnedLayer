{
 "cells": [
  {
   "cell_type": "markdown",
   "metadata": {
    "deletable": true,
    "editable": true
   },
   "source": [
    "# learned layer comparison\n",
    "\n",
    "we compare molecules and rna.... on 3 modes: no-abstraction, hand made abstraction and learned abstraction."
   ]
  },
  {
   "cell_type": "code",
   "execution_count": 1,
   "metadata": {
    "collapsed": false,
    "deletable": true,
    "editable": true
   },
   "outputs": [
    {
     "data": {
      "text/html": [
       "<style>.container { width:95% !important; }</style><style>.output_png {display: table-cell;text-align: center;vertical-align: middle;}</style>"
      ],
      "text/plain": [
       "<IPython.core.display.HTML object>"
      ]
     },
     "execution_count": 1,
     "metadata": {},
     "output_type": "execute_result"
    }
   ],
   "source": [
    "%matplotlib inline\n",
    "%load_ext autoreload\n",
    "%autoreload 2\n",
    "import logging\n",
    "from eden.util import configure_logging\n",
    "configure_logging(logging.getLogger(), verbosity=1)\n",
    "from IPython.core.display import HTML\n",
    "HTML('<style>.container { width:95% !important; }</style><style>.output_png {display: table-cell;text-align: center;vertical-align: middle;}</style>')\n"
   ]
  },
  {
   "cell_type": "code",
   "execution_count": 2,
   "metadata": {
    "collapsed": false,
    "deletable": true,
    "editable": true
   },
   "outputs": [
    {
     "data": {
      "text/plain": [
       "<matplotlib.figure.Figure at 0x7f186ab6cf10>"
      ]
     },
     "metadata": {},
     "output_type": "display_data"
    },
    {
     "name": "stderr",
     "output_type": "stream",
     "text": [
      "/usr/lib/python2.7/dist-packages/matplotlib/font_manager.py:1288: UserWarning: findfont: Font family [u'Arial'] not found. Falling back to Bitstream Vera Sans\n",
      "  (prop.get_family(), self.defaultFamily[fontext]))\n"
     ]
    },
    {
     "data": {
      "image/png": "[encoded data removed]",
      "text/plain": [
       "<matplotlib.figure.Figure at 0x7f186ab5e5d0>"
      ]
     },
     "metadata": {},
     "output_type": "display_data"
    }
   ],
   "source": [
    "# short test of the draw function... \n",
    "\n",
    "# interesting :) \n",
    "#transpose([ [np.mean(e),np.std(e)] for e in scores]\n",
    "\n",
    "import numpy as np\n",
    "import matplotlib.pyplot as plt\n",
    "def make_inbetween_plot(labels=[50,100,150],means=[(20, 35, 40),(20, 40 , 60)],stds=[(2, 3,5),(3, 3,3)]):\n",
    "    #N = len(labels)\n",
    "    #ind = np.arange(N) \n",
    "    #width = 0.35\n",
    "    plt.figure(figsize=(14, 5))\n",
    "    fig, ax = plt.subplots()\n",
    "    for label in (ax.get_xticklabels() + ax.get_yticklabels()):\n",
    "        label.set_fontname('Arial')\n",
    "        label.set_fontsize(14)\n",
    "    #ax.ylim(0.0,100)\n",
    "    plt.ylim(-5,80)\n",
    "    plt.xlim(0,400)\n",
    "\n",
    "    \n",
    "    def fillthing(y,std,label='some label',col='b'):\n",
    "        y=np.array(y)\n",
    "        std=np.array(std)\n",
    "        ax.fill_between(labels,y+std,y-std,facecolor=col,alpha=0.15,linewidth=0)\n",
    "        #ax.plot(labels,y,label=label,color='gray')\n",
    "        ax.plot(labels,y,color='gray')\n",
    "        \n",
    "    #ax.errorbar(labels, means[0], yerr= stds[0], fmt='o')\n",
    "    #ax.errorbar(labels, means[1], yerr= stds[1], fmt='x')\n",
    "    fillthing(means[0],stds[0],col='#6A9AE2')\n",
    "    #fillthing(means[1],stds[1],col='#8DDD82')# some green.. maybe use yellow..\n",
    "    fillthing(means[1],stds[1],col='#F94D4D')\n",
    "    \n",
    "    ax.plot(labels,means[0],label='extended grammar',color='b',linewidth=2.0)\n",
    "    ax.plot(labels,means[1],label='normal grammar',color='r',linewidth=2.0)\n",
    "    #ax.plot(labels,infernal,label='Infernal',color='#3F3F3F',linewidth=2.0,ls='--')\n",
    "    plt.axhline(y=38, color='black',linewidth=2,ls='dotted')\n",
    "    \n",
    "    # add some text for labels, title and axes ticks\n",
    "    labelfs=16\n",
    "    ax.set_ylabel('Infernal bit score',fontsize=labelfs)\n",
    "    ax.set_xlabel('training sequences',fontsize=labelfs)\n",
    "    ax.legend(loc='lower left')\n",
    "\n",
    "    plt.show()\n",
    "    \n",
    "make_inbetween_plot()"
   ]
  },
  {
   "cell_type": "markdown",
   "metadata": {
    "deletable": true,
    "editable": true
   },
   "source": [
    "# Chem"
   ]
  },
  {
   "cell_type": "code",
   "execution_count": 6,
   "metadata": {
    "collapsed": false,
    "deletable": true,
    "editable": true
   },
   "outputs": [
    {
     "name": "stdout",
     "output_type": "stream",
     "text": [
      "indicator of tak-ease:\n",
      "crossval train: 0.9364 +- 0.0091   crossval: 0.6716 +- 0.0321\n",
      "{'active': 483, 'inactive': 126}\n",
      "CPU times: user 2.65 s, sys: 292 ms, total: 2.94 s\n",
      "Wall time: 4.1 s\n"
     ]
    }
   ],
   "source": [
    "%%time\n",
    "import layerutils as lu \n",
    "\n",
    "repeats = 3\n",
    "train_sizes = [20,30]\n",
    "test_size_per_class = 300\n",
    "neg_vec_count = 500\n",
    "pick_strategy = 'random'\n",
    "\n",
    "if True:\n",
    "    repeats = 2\n",
    "    train_sizes = [20,30,40]\n",
    "    test_size_per_class = 100\n",
    "  \n",
    "    pick_strategy = 'random'\n",
    "\n",
    "data= lu.make_data(\n",
    "                  #'651610',\n",
    "                    '1834',\n",
    "                   repeats = repeats,\n",
    "                   train_sizes= train_sizes,\n",
    "                   test_size_per_class = test_size_per_class,\n",
    "                   pick_strategy = pick_strategy,\n",
    "                   trainclass=1\n",
    "                  )\n"
   ]
  },
  {
   "cell_type": "code",
   "execution_count": 4,
   "metadata": {
    "collapsed": false,
    "deletable": true,
    "editable": true
   },
   "outputs": [
    {
     "data": {
      "text/plain": [
       "<matplotlib.figure.Figure at 0x7f186abb1050>"
      ]
     },
     "metadata": {},
     "output_type": "display_data"
    },
    {
     "data": {
      "image/png": "[encoded data removed]",
      "text/plain": [
       "<matplotlib.figure.Figure at 0x7f18689fe3d0>"
      ]
     },
     "metadata": {},
     "output_type": "display_data"
    }
   ],
   "source": [
    "import layerutils as lu\n",
    "lu.make_inbetween_plot()\n"
   ]
  },
  {
   "cell_type": "code",
   "execution_count": 33,
   "metadata": {
    "collapsed": false,
    "deletable": true,
    "editable": true,
    "scrolled": false
   },
   "outputs": [
    {
     "name": "stdout",
     "output_type": "stream",
     "text": [
      "samplers are fake atm\n",
      "indicator of tak-ease:\n",
      "crossval train: 0.9399 +- 0.0151   crossval: 0.6689 +- 0.0231\n",
      "{'active': 483, 'inactive': 126}\n",
      "asdasd_not_ok\n",
      "asdasd_not_ok\n",
      "asdasd_not_ok\n",
      "asdasd_not_ok\n",
      "asdasd_not_ok\n",
      "asdasd_not_ok\n",
      "asdasd_not_ok\n",
      "asdasd_not_ok\n",
      "asdasd_not_ok\n",
      "asdasd_not_ok\n",
      "asdasd_not_ok\n",
      "asdasd_not_ok\n"
     ]
    },
    {
     "ename": "Exception",
     "evalue": "need something to vectirize.. received []",
     "output_type": "error",
     "traceback": [
      "\u001b[0;31m---------------------------------------------------------------------------\u001b[0m",
      "\u001b[0;31mException\u001b[0m                                 Traceback (most recent call last)",
      "\u001b[0;32m<ipython-input-33-ce49c2fa1a55>\u001b[0m in \u001b[0;36m<module>\u001b[0;34m()\u001b[0m\n\u001b[0;32m----> 1\u001b[0;31m \u001b[0mget_ipython\u001b[0m\u001b[0;34m(\u001b[0m\u001b[0;34m)\u001b[0m\u001b[0;34m.\u001b[0m\u001b[0mrun_cell_magic\u001b[0m\u001b[0;34m(\u001b[0m\u001b[0;34mu'time'\u001b[0m\u001b[0;34m,\u001b[0m \u001b[0;34mu''\u001b[0m\u001b[0;34m,\u001b[0m \u001b[0;34mu\"import numpy as np\\nimport layerutils as lu\\nassay_id = '651610'  # apr93 23k mols\\nrepeats = 3\\nn_iter = 25\\ntrain_sizes = [20,50,100,200,500,750,1000]\\n\\n'''\\nTHE PLAN IS SIMPLE\\n1. make_samplers  ( there are 3 )\\n2. evaluate results  -> mmm sss mmm sss\\n3. probably transpose\\n4. draw\\n'''\\n\\nif True:  # debug\\n    assay_id = '1834' # 1834 is bad because there are too few compounds :D  65* is too large for testing\\n    repeats = 2\\n    n_iter = 2\\n    train_sizes= [20,30]\\n\\n\\nsamplers_chem = lu.make_samplers_chem()\\ndata_chem  = lu.make_data(assay_id,\\n               repeats=repeats,\\n               trainclass=1,\\n               train_sizes=train_sizes,\\n               test_size_per_class=300,\\n               pick_strategy='cluster') # cluster random  highscoring\\n\\ngraphs_chem = lu.run_experiments(samplers_chem,data_chem)\\n\\nimport pprint as pp\\n#pp.pprint (graphs_chem)\\n#pp.pprint(data_chem[0][0]['train_graphs'])\\nmeans,stds,m2,s2 = lu.evaluate(graphs_chem,data_chem)\\nlu.make_inbetween_plot(labels=train_sizes, means=means , stds=stds)\\nlu.make_inbetween_plot(labels=train_sizes, means=m2 , stds=s2, dynamic_ylim=True)\\n\\n\\n\\n\\n\\n\"\u001b[0m\u001b[0;34m)\u001b[0m\u001b[0;34m\u001b[0m\u001b[0m\n\u001b[0m",
      "\u001b[0;32m/home/ikea/.local/lib/python2.7/site-packages/IPython/core/interactiveshell.pyc\u001b[0m in \u001b[0;36mrun_cell_magic\u001b[0;34m(self, magic_name, line, cell)\u001b[0m\n\u001b[1;32m   2113\u001b[0m             \u001b[0mmagic_arg_s\u001b[0m \u001b[0;34m=\u001b[0m \u001b[0mself\u001b[0m\u001b[0;34m.\u001b[0m\u001b[0mvar_expand\u001b[0m\u001b[0;34m(\u001b[0m\u001b[0mline\u001b[0m\u001b[0;34m,\u001b[0m \u001b[0mstack_depth\u001b[0m\u001b[0;34m)\u001b[0m\u001b[0;34m\u001b[0m\u001b[0m\n\u001b[1;32m   2114\u001b[0m             \u001b[0;32mwith\u001b[0m \u001b[0mself\u001b[0m\u001b[0;34m.\u001b[0m\u001b[0mbuiltin_trap\u001b[0m\u001b[0;34m:\u001b[0m\u001b[0;34m\u001b[0m\u001b[0m\n\u001b[0;32m-> 2115\u001b[0;31m                 \u001b[0mresult\u001b[0m \u001b[0;34m=\u001b[0m \u001b[0mfn\u001b[0m\u001b[0;34m(\u001b[0m\u001b[0mmagic_arg_s\u001b[0m\u001b[0;34m,\u001b[0m \u001b[0mcell\u001b[0m\u001b[0;34m)\u001b[0m\u001b[0;34m\u001b[0m\u001b[0m\n\u001b[0m\u001b[1;32m   2116\u001b[0m             \u001b[0;32mreturn\u001b[0m \u001b[0mresult\u001b[0m\u001b[0;34m\u001b[0m\u001b[0m\n\u001b[1;32m   2117\u001b[0m \u001b[0;34m\u001b[0m\u001b[0m\n",
      "\u001b[0;32m<decorator-gen-59>\u001b[0m in \u001b[0;36mtime\u001b[0;34m(self, line, cell, local_ns)\u001b[0m\n",
      "\u001b[0;32m/home/ikea/.local/lib/python2.7/site-packages/IPython/core/magic.pyc\u001b[0m in \u001b[0;36m<lambda>\u001b[0;34m(f, *a, **k)\u001b[0m\n\u001b[1;32m    186\u001b[0m     \u001b[0;31m# but it's overkill for just that one bit of state.\u001b[0m\u001b[0;34m\u001b[0m\u001b[0;34m\u001b[0m\u001b[0m\n\u001b[1;32m    187\u001b[0m     \u001b[0;32mdef\u001b[0m \u001b[0mmagic_deco\u001b[0m\u001b[0;34m(\u001b[0m\u001b[0marg\u001b[0m\u001b[0;34m)\u001b[0m\u001b[0;34m:\u001b[0m\u001b[0;34m\u001b[0m\u001b[0m\n\u001b[0;32m--> 188\u001b[0;31m         \u001b[0mcall\u001b[0m \u001b[0;34m=\u001b[0m \u001b[0;32mlambda\u001b[0m \u001b[0mf\u001b[0m\u001b[0;34m,\u001b[0m \u001b[0;34m*\u001b[0m\u001b[0ma\u001b[0m\u001b[0;34m,\u001b[0m \u001b[0;34m**\u001b[0m\u001b[0mk\u001b[0m\u001b[0;34m:\u001b[0m \u001b[0mf\u001b[0m\u001b[0;34m(\u001b[0m\u001b[0;34m*\u001b[0m\u001b[0ma\u001b[0m\u001b[0;34m,\u001b[0m \u001b[0;34m**\u001b[0m\u001b[0mk\u001b[0m\u001b[0;34m)\u001b[0m\u001b[0;34m\u001b[0m\u001b[0m\n\u001b[0m\u001b[1;32m    189\u001b[0m \u001b[0;34m\u001b[0m\u001b[0m\n\u001b[1;32m    190\u001b[0m         \u001b[0;32mif\u001b[0m \u001b[0mcallable\u001b[0m\u001b[0;34m(\u001b[0m\u001b[0marg\u001b[0m\u001b[0;34m)\u001b[0m\u001b[0;34m:\u001b[0m\u001b[0;34m\u001b[0m\u001b[0m\n",
      "\u001b[0;32m/home/ikea/.local/lib/python2.7/site-packages/IPython/core/magics/execution.pyc\u001b[0m in \u001b[0;36mtime\u001b[0;34m(self, line, cell, local_ns)\u001b[0m\n\u001b[1;32m   1183\u001b[0m         \u001b[0;32melse\u001b[0m\u001b[0;34m:\u001b[0m\u001b[0;34m\u001b[0m\u001b[0m\n\u001b[1;32m   1184\u001b[0m             \u001b[0mst\u001b[0m \u001b[0;34m=\u001b[0m \u001b[0mclock2\u001b[0m\u001b[0;34m(\u001b[0m\u001b[0;34m)\u001b[0m\u001b[0;34m\u001b[0m\u001b[0m\n\u001b[0;32m-> 1185\u001b[0;31m             \u001b[0;32mexec\u001b[0m\u001b[0;34m(\u001b[0m\u001b[0mcode\u001b[0m\u001b[0;34m,\u001b[0m \u001b[0mglob\u001b[0m\u001b[0;34m,\u001b[0m \u001b[0mlocal_ns\u001b[0m\u001b[0;34m)\u001b[0m\u001b[0;34m\u001b[0m\u001b[0m\n\u001b[0m\u001b[1;32m   1186\u001b[0m             \u001b[0mend\u001b[0m \u001b[0;34m=\u001b[0m \u001b[0mclock2\u001b[0m\u001b[0;34m(\u001b[0m\u001b[0;34m)\u001b[0m\u001b[0;34m\u001b[0m\u001b[0m\n\u001b[1;32m   1187\u001b[0m             \u001b[0mout\u001b[0m \u001b[0;34m=\u001b[0m \u001b[0mNone\u001b[0m\u001b[0;34m\u001b[0m\u001b[0m\n",
      "\u001b[0;32m<timed exec>\u001b[0m in \u001b[0;36m<module>\u001b[0;34m()\u001b[0m\n",
      "\u001b[0;32m/home/ikea/GRAPHLEARN/LearnedLayer/layerutils.py\u001b[0m in \u001b[0;36mevaluate\u001b[0;34m(graphs, task_data)\u001b[0m\n\u001b[1;32m    310\u001b[0m         data = [[ (test( task_data[0][0]['oracle'], vectorize(outgraphs))[1],time)\n\u001b[1;32m    311\u001b[0m                   for outgraphs,time in repeats ]\n\u001b[0;32m--> 312\u001b[0;31m                 for repeats in s]\n\u001b[0m\u001b[1;32m    313\u001b[0m         \u001b[0;31m# they are ordered by repeats now.\u001b[0m\u001b[0;34m\u001b[0m\u001b[0;34m\u001b[0m\u001b[0m\n\u001b[1;32m    314\u001b[0m         \u001b[0mdata\u001b[0m \u001b[0;34m=\u001b[0m \u001b[0mtranspose\u001b[0m\u001b[0;34m(\u001b[0m\u001b[0mdata\u001b[0m\u001b[0;34m)\u001b[0m\u001b[0;34m\u001b[0m\u001b[0m\n",
      "\u001b[0;32m/home/ikea/GRAPHLEARN/LearnedLayer/layerutils.py\u001b[0m in \u001b[0;36mvectorize\u001b[0;34m(thing)\u001b[0m\n\u001b[1;32m     37\u001b[0m     \u001b[0mv\u001b[0m \u001b[0;34m=\u001b[0m \u001b[0mVectorizer\u001b[0m\u001b[0;34m(\u001b[0m\u001b[0;34m)\u001b[0m\u001b[0;34m\u001b[0m\u001b[0m\n\u001b[1;32m     38\u001b[0m     \u001b[0;32mif\u001b[0m \u001b[0;32mnot\u001b[0m \u001b[0mthing\u001b[0m\u001b[0;34m:\u001b[0m\u001b[0;34m\u001b[0m\u001b[0m\n\u001b[0;32m---> 39\u001b[0;31m         \u001b[0;32mraise\u001b[0m \u001b[0mException\u001b[0m\u001b[0;34m(\u001b[0m \u001b[0;34m\"need something to vectirize.. received %s\"\u001b[0m \u001b[0;34m%\u001b[0m \u001b[0mstr\u001b[0m\u001b[0;34m(\u001b[0m\u001b[0mthing\u001b[0m\u001b[0;34m)\u001b[0m\u001b[0;34m)\u001b[0m\u001b[0;34m\u001b[0m\u001b[0m\n\u001b[0m\u001b[1;32m     40\u001b[0m     \u001b[0;32mreturn\u001b[0m \u001b[0mv\u001b[0m\u001b[0;34m.\u001b[0m\u001b[0mtransform\u001b[0m\u001b[0;34m(\u001b[0m\u001b[0mthing\u001b[0m\u001b[0;34m)\u001b[0m\u001b[0;34m\u001b[0m\u001b[0m\n\u001b[1;32m     41\u001b[0m \u001b[0;34m\u001b[0m\u001b[0m\n",
      "\u001b[0;31mException\u001b[0m: need something to vectirize.. received []"
     ]
    }
   ],
   "source": [
    "%%time\n",
    "import numpy as np\n",
    "import layerutils as lu\n",
    "assay_id = '651610'  # apr93 23k mols\n",
    "repeats = 3\n",
    "n_iter = 25\n",
    "train_sizes = [20,50,100,200,500,750,1000]\n",
    "\n",
    "'''\n",
    "THE PLAN IS SIMPLE\n",
    "1. make_samplers  ( there are 3 )\n",
    "2. evaluate results  -> mmm sss mmm sss\n",
    "3. probably transpose\n",
    "4. draw\n",
    "'''\n",
    "\n",
    "if True:  # debug\n",
    "    assay_id = '1834' # 1834 is bad because there are too few compounds :D  65* is too large for testing\n",
    "    assay_id = '65' # 1834 is bad because there are too few compounds :D  65* is too large for testing\n",
    "    \n",
    "    repeats = 2\n",
    "    n_iter = 2\n",
    "    train_sizes= [20,30]\n",
    "\n",
    "\n",
    "samplers_chem = lu.make_samplers_chem()\n",
    "data_chem  = lu.make_data(assay_id,\n",
    "               repeats=repeats,\n",
    "               trainclass=1,\n",
    "               train_sizes=train_sizes,\n",
    "               test_size_per_class=300,\n",
    "               pick_strategy='cluster') # cluster random  highscoring\n",
    "\n",
    "graphs_chem = lu.run_experiments(samplers_chem,data_chem)\n",
    "\n",
    "import pprint as pp\n",
    "#pp.pprint (graphs_chem)\n",
    "#pp.pprint(data_chem[0][0]['train_graphs'])\n",
    "means,stds,m2,s2 = lu.evaluate(graphs_chem,data_chem)\n",
    "lu.make_inbetween_plot(labels=train_sizes, means=means , stds=stds)\n",
    "lu.make_inbetween_plot(labels=train_sizes, means=m2 , stds=s2, dynamic_ylim=True)\n",
    "\n",
    "\n",
    "\n",
    "\n",
    "\n",
    "\n"
   ]
  },
  {
   "cell_type": "code",
   "execution_count": 21,
   "metadata": {
    "collapsed": false,
    "deletable": true,
    "editable": true
   },
   "outputs": [
    {
     "data": {
      "text/plain": [
       "{'debug': True,\n",
       " 'debug_rna': False,\n",
       " 'depth': 2,\n",
       " 'group_score_threshold': 0,\n",
       " 'max_group_size': 6,\n",
       " 'min_group_size': 2,\n",
       " 'multiprocess': True,\n",
       " 'num_classes': 2,\n",
       " 'transformers': [<graphlearn.learnedlayer.transform.GraphMinorTransformer at 0x7f1857a4f510>,\n",
       "  <graphlearn.learnedlayer.transform.GraphMinorTransformer at 0x7f1855100d10>]}"
      ]
     },
     "execution_count": 21,
     "metadata": {},
     "output_type": "execute_result"
    }
   ],
   "source": [
    "samplers_chem[0].__dict__"
   ]
  },
  {
   "cell_type": "code",
   "execution_count": null,
   "metadata": {
    "collapsed": true
   },
   "outputs": [],
   "source": []
  }
 ],
 "metadata": {
  "kernelspec": {
   "display_name": "Python 2",
   "language": "python",
   "name": "python2"
  },
  "language_info": {
   "codemirror_mode": {
    "name": "ipython",
    "version": 2
   },
   "file_extension": ".py",
   "mimetype": "text/x-python",
   "name": "python",
   "nbconvert_exporter": "python",
   "pygments_lexer": "ipython2",
   "version": "2.7.12"
  }
 },
 "nbformat": 4,
 "nbformat_minor": 1
}
