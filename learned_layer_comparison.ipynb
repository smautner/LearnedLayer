{
 "cells": [
  {
   "cell_type": "markdown",
   "metadata": {
    "deletable": true,
    "editable": true
   },
   "source": [
    "# learned layer comparison\n",
    "\n",
    "we compare molecules and rna.... on 3 modes: no-abstraction, hand made abstraction and learned abstraction."
   ]
  },
  {
   "cell_type": "code",
   "execution_count": 1,
   "metadata": {
    "collapsed": false,
    "deletable": true,
    "editable": true
   },
   "outputs": [
    {
     "data": {
      "text/html": [
       "<style>.container { width:95% !important; }</style><style>.output_png {display: table-cell;text-align: center;vertical-align: middle;}</style>"
      ],
      "text/plain": [
       "<IPython.core.display.HTML object>"
      ]
     },
     "execution_count": 1,
     "metadata": {},
     "output_type": "execute_result"
    }
   ],
   "source": [
    "%matplotlib inline\n",
    "%load_ext autoreload\n",
    "%autoreload 2\n",
    "import logging\n",
    "from eden.util import configure_logging\n",
    "configure_logging(logging.getLogger(), verbosity=1)\n",
    "from IPython.core.display import HTML\n",
    "HTML('<style>.container { width:95% !important; }</style><style>.output_png {display: table-cell;text-align: center;vertical-align: middle;}</style>')\n"
   ]
  },
  {
   "cell_type": "code",
   "execution_count": 2,
   "metadata": {
    "collapsed": false,
    "deletable": true,
    "editable": true
   },
   "outputs": [
    {
     "data": {
      "text/plain": [
       "<matplotlib.figure.Figure at 0x7f4e4ae36290>"
      ]
     },
     "metadata": {},
     "output_type": "display_data"
    },
    {
     "name": "stderr",
     "output_type": "stream",
     "text": [
      "/usr/lib/python2.7/dist-packages/matplotlib/font_manager.py:1288: UserWarning: findfont: Font family [u'Arial'] not found. Falling back to Bitstream Vera Sans\n",
      "  (prop.get_family(), self.defaultFamily[fontext]))\n"
     ]
    },
    {
     "data": {
      "image/png": "[encoded data removed]",
      "text/plain": [
       "<matplotlib.figure.Figure at 0x7f4e4ae36910>"
      ]
     },
     "metadata": {},
     "output_type": "display_data"
    }
   ],
   "source": [
    "# short test of the draw function... \n",
    "\n",
    "# interesting :) \n",
    "#transpose([ [np.mean(e),np.std(e)] for e in scores]\n",
    "\n",
    "import numpy as np\n",
    "import matplotlib.pyplot as plt\n",
    "def make_inbetween_plot(labels=[50,100,150],means=[(20, 35, 40),(20, 40 , 60)],stds=[(2, 3,5),(3, 3,3)]):\n",
    "    #N = len(labels)\n",
    "    #ind = np.arange(N) \n",
    "    #width = 0.35\n",
    "    plt.figure(figsize=(14, 5))\n",
    "    fig, ax = plt.subplots()\n",
    "    for label in (ax.get_xticklabels() + ax.get_yticklabels()):\n",
    "        label.set_fontname('Arial')\n",
    "        label.set_fontsize(14)\n",
    "    #ax.ylim(0.0,100)\n",
    "    plt.ylim(-5,80)\n",
    "    plt.xlim(0,400)\n",
    "\n",
    "    \n",
    "    def fillthing(y,std,label='some label',col='b'):\n",
    "        y=np.array(y)\n",
    "        std=np.array(std)\n",
    "        ax.fill_between(labels,y+std,y-std,facecolor=col,alpha=0.15,linewidth=0)\n",
    "        #ax.plot(labels,y,label=label,color='gray')\n",
    "        ax.plot(labels,y,color='gray')\n",
    "        \n",
    "    #ax.errorbar(labels, means[0], yerr= stds[0], fmt='o')\n",
    "    #ax.errorbar(labels, means[1], yerr= stds[1], fmt='x')\n",
    "    fillthing(means[0],stds[0],col='#6A9AE2')\n",
    "    #fillthing(means[1],stds[1],col='#8DDD82')# some green.. maybe use yellow..\n",
    "    fillthing(means[1],stds[1],col='#F94D4D')\n",
    "    \n",
    "    ax.plot(labels,means[0],label='extended grammar',color='b',linewidth=2.0)\n",
    "    ax.plot(labels,means[1],label='normal grammar',color='r',linewidth=2.0)\n",
    "    #ax.plot(labels,infernal,label='Infernal',color='#3F3F3F',linewidth=2.0,ls='--')\n",
    "    plt.axhline(y=38, color='black',linewidth=2,ls='dotted')\n",
    "    \n",
    "    # add some text for labels, title and axes ticks\n",
    "    labelfs=16\n",
    "    ax.set_ylabel('Infernal bit score',fontsize=labelfs)\n",
    "    ax.set_xlabel('training sequences',fontsize=labelfs)\n",
    "    ax.legend(loc='lower left')\n",
    "\n",
    "    plt.show()\n",
    "    \n",
    "make_inbetween_plot()"
   ]
  },
  {
   "cell_type": "markdown",
   "metadata": {
    "deletable": true,
    "editable": true
   },
   "source": [
    "# Chem"
   ]
  },
  {
   "cell_type": "code",
   "execution_count": 3,
   "metadata": {
    "collapsed": false,
    "deletable": true,
    "editable": true
   },
   "outputs": [
    {
     "name": "stderr",
     "output_type": "stream",
     "text": [
      "/usr/lib/python2.7/dist-packages/matplotlib/__init__.py:1352: UserWarning:  This call to matplotlib.use() has no effect\n",
      "because the backend has already been chosen;\n",
      "matplotlib.use() must be called *before* pylab, matplotlib.pyplot,\n",
      "or matplotlib.backends is imported for the first time.\n",
      "\n",
      "  warnings.warn(_use_error_msg)\n"
     ]
    },
    {
     "name": "stdout",
     "output_type": "stream",
     "text": [
      "indicator of tak-ease:\n",
      "crossval train: 0.9532 +- 0.0011   crossval: 0.9462 +- 0.0037\n",
      "{'active': 3866, 'inactive': 19293}\n"
     ]
    }
   ],
   "source": [
    "import layerutils as lu \n",
    "\n",
    "repeats = 3\n",
    "train_sizes = [20,30]\n",
    "test_size_per_class = 300\n",
    "neg_vec_count = 500\n",
    "pick_strategy = 'random'\n",
    "\n",
    "if True:\n",
    "    repeats = 2\n",
    "    train_sizes = [20,30,40]\n",
    "    test_size_per_class = 100\n",
    "  \n",
    "    pick_strategy = 'random'\n",
    "\n",
    "data= lu.make_data(\n",
    "                  '651610', \n",
    "                   repeats = repeats,\n",
    "                   train_sizes= train_sizes,\n",
    "                   test_size_per_class = test_size_per_class,\n",
    "                   pick_strategy = pick_strategy,\n",
    "                   trainclass=1\n",
    "                  )\n"
   ]
  },
  {
   "cell_type": "code",
   "execution_count": 4,
   "metadata": {
    "collapsed": false,
    "deletable": true,
    "editable": true
   },
   "outputs": [
    {
     "data": {
      "text/plain": [
       "<matplotlib.figure.Figure at 0x7f4e48db5710>"
      ]
     },
     "metadata": {},
     "output_type": "display_data"
    },
    {
     "data": {
      "image/png": "[encoded data removed]",
      "text/plain": [
       "<matplotlib.figure.Figure at 0x7f4e48db5a90>"
      ]
     },
     "metadata": {},
     "output_type": "display_data"
    }
   ],
   "source": [
    "import layerutils as lu\n",
    "lu.make_inbetween_plot()\n"
   ]
  },
  {
   "cell_type": "code",
   "execution_count": 5,
   "metadata": {
    "collapsed": false,
    "deletable": true,
    "editable": true
   },
   "outputs": [
    {
     "name": "stdout",
     "output_type": "stream",
     "text": [
      "indicator of tak-ease:\n",
      "crossval train: 0.9322 +- 0.0088   crossval: 0.6820 +- 0.0184\n",
      "{'active': 483, 'inactive': 126}\n"
     ]
    },
    {
     "data": {
      "text/plain": [
       "<matplotlib.figure.Figure at 0x7f4e4e7fc690>"
      ]
     },
     "metadata": {},
     "output_type": "display_data"
    },
    {
     "data": {
      "image/png": "[encoded data removed]",
      "text/plain": [
       "<matplotlib.figure.Figure at 0x7f4e213df910>"
      ]
     },
     "metadata": {},
     "output_type": "display_data"
    }
   ],
   "source": [
    "import numpy as np\n",
    "import layerutils as lu\n",
    "assay_id = '651610'  # apr93 23k mols\n",
    "repeats = 3\n",
    "n_iter = 25\n",
    "train_sizes = [20,50,100,200,500,750,1000]\n",
    "\n",
    "'''\n",
    "THE PLAN IS SIMPLE\n",
    "1. make_samplers  ( there are 3 )\n",
    "2. evaluate results  -> mmm sss mmm sss\n",
    "3. probably transpose\n",
    "4. draw\n",
    "'''\n",
    "\n",
    "if True:  # debug\n",
    "    assay_id = '1834' # 1834 is bad because there are too few compounds :D  65* is too large for testing\n",
    "    repeats = 2\n",
    "    n_iter = 2\n",
    "    train_sizes= [20,30]\n",
    "\n",
    "\n",
    "samplers_chem = lu.make_samplers_chem()\n",
    "data_chem  = lu.make_data(assay_id,\n",
    "               repeats=repeats,\n",
    "               trainclass=1,\n",
    "               train_sizes=train_sizes,\n",
    "               test_size_per_class=300,\n",
    "               pick_strategy='cluster') # cluster random  highscoring\n",
    "\n",
    "graphs_chem = lu.run_experiments(samplers_chem,data_chem)\n",
    "means,stds = lu.evaluate(graphs_chem,data_chem)\n",
    "lu.make_inbetween_plot(labels=train_sizes, means=means , stds=stds)    \n",
    "\n",
    "\n",
    "\n",
    "\n",
    "\n",
    "\n"
   ]
  },
  {
   "cell_type": "code",
   "execution_count": null,
   "metadata": {
    "collapsed": true,
    "deletable": true,
    "editable": true
   },
   "outputs": [],
   "source": []
  }
 ],
 "metadata": {
  "kernelspec": {
   "display_name": "Python 2",
   "language": "python",
   "name": "python2"
  },
  "language_info": {
   "codemirror_mode": {
    "name": "ipython",
    "version": 2
   },
   "file_extension": ".py",
   "mimetype": "text/x-python",
   "name": "python",
   "nbconvert_exporter": "python",
   "pygments_lexer": "ipython2",
   "version": "2.7.12"
  }
 },
 "nbformat": 4,
 "nbformat_minor": 1
}
